{
 "cells": [
  {
   "cell_type": "code",
   "execution_count": 1,
   "metadata": {},
   "outputs": [],
   "source": [
    "from __future__ import print_function\n",
    "import torch\n",
    "import numpy as np"
   ]
  },
  {
   "cell_type": "code",
   "execution_count": 2,
   "metadata": {},
   "outputs": [],
   "source": [
    "# A tensor in deep learning is simply an N-dimensional array\n",
    "# We start this tutorial by some simple manipulations of tensors"
   ]
  },
  {
   "cell_type": "code",
   "execution_count": 3,
   "metadata": {},
   "outputs": [
    {
     "name": "stdout",
     "output_type": "stream",
     "text": [
      "tensor([[-8.0649e+08,  3.0673e-41],\n",
      "        [ 5.6052e-45,  0.0000e+00],\n",
      "        [        nan,  1.6255e-43],\n",
      "        [ 1.1578e+27,  4.1666e+34]])\n"
     ]
    }
   ],
   "source": [
    "# Create an uninitialized tensor\n",
    "x = torch.empty(4, 2)\n",
    "print(x)"
   ]
  },
  {
   "cell_type": "code",
   "execution_count": 4,
   "metadata": {},
   "outputs": [
    {
     "name": "stdout",
     "output_type": "stream",
     "text": [
      "tensor([[0., 0.],\n",
      "        [0., 0.],\n",
      "        [0., 0.],\n",
      "        [0., 0.]], dtype=torch.float64)\n",
      "tensor([[1., 1.],\n",
      "        [1., 1.],\n",
      "        [1., 1.],\n",
      "        [1., 1.]], dtype=torch.float64)\n",
      "tensor([[0.2121, 0.0374],\n",
      "        [0.6777, 0.6308],\n",
      "        [0.6824, 0.0540],\n",
      "        [0.5312, 0.7292]], dtype=torch.float64)\n"
     ]
    }
   ],
   "source": [
    "# Create a tensor initialized with ones and zeros\n",
    "x = torch.zeros(4, 2, dtype=torch.double) # We can specify the type of the elements\n",
    "print(x)\n",
    "x = torch.ones(4, 2, dtype=torch.double)\n",
    "print(x)\n",
    "# Create an randomly initialized tensor\n",
    "y = torch.rand(4, 2, dtype=torch.double)\n",
    "print(y)"
   ]
  },
  {
   "cell_type": "code",
   "execution_count": 5,
   "metadata": {},
   "outputs": [
    {
     "name": "stdout",
     "output_type": "stream",
     "text": [
      "torch.Size([4, 2])\n"
     ]
    }
   ],
   "source": [
    "# Check the size of a tensor\n",
    "print(x.size())"
   ]
  },
  {
   "cell_type": "code",
   "execution_count": 6,
   "metadata": {},
   "outputs": [
    {
     "name": "stdout",
     "output_type": "stream",
     "text": [
      "tensor([3.3300, 2.6400])\n"
     ]
    }
   ],
   "source": [
    "# One can also create tensors directly from data\n",
    "print(torch.tensor([3.33, 2.64]))"
   ]
  },
  {
   "cell_type": "code",
   "execution_count": 7,
   "metadata": {},
   "outputs": [
    {
     "name": "stdout",
     "output_type": "stream",
     "text": [
      "tensor([[1.2121, 1.0374],\n",
      "        [1.6777, 1.6308],\n",
      "        [1.6824, 1.0540],\n",
      "        [1.5312, 1.7292]], dtype=torch.float64)\n",
      "tensor([[1.2121, 1.0374],\n",
      "        [1.6777, 1.6308],\n",
      "        [1.6824, 1.0540],\n",
      "        [1.5312, 1.7292]], dtype=torch.float64)\n",
      "tensor([[1.2121, 1.0374],\n",
      "        [1.6777, 1.6308],\n",
      "        [1.6824, 1.0540],\n",
      "        [1.5312, 1.7292]], dtype=torch.float64)\n",
      "tensor([[1.2121, 1.0374],\n",
      "        [1.6777, 1.6308],\n",
      "        [1.6824, 1.0540],\n",
      "        [1.5312, 1.7292]], dtype=torch.float64)\n"
     ]
    }
   ],
   "source": [
    "# Operations of tensors are very similar to those of NumPy\n",
    "print(x + y)\n",
    "output = torch.empty(4, 2, dtype=torch.double)\n",
    "print(torch.add(x, y, out=output)) # Output argument can be added as well\n",
    "print(y.add_(x)) # In-place operations should be followed by _\n",
    "print(y) # We can see that y is mutated"
   ]
  },
  {
   "cell_type": "code",
   "execution_count": 8,
   "metadata": {},
   "outputs": [
    {
     "name": "stdout",
     "output_type": "stream",
     "text": [
      "torch.Size([8])\n",
      "tensor([1., 1., 1., 1., 1., 1., 1., 1.], dtype=torch.float64)\n",
      "torch.Size([2, 4])\n",
      "tensor([[1., 1., 1., 1.],\n",
      "        [1., 1., 1., 1.]], dtype=torch.float64)\n"
     ]
    }
   ],
   "source": [
    "# Resize tensors\n",
    "z = x.view(8)\n",
    "print(z.size())\n",
    "print(z)\n",
    "z = x.view(-1, 4) # -1 means inferring the dimension from other dimensions\n",
    "print(z.size())\n",
    "print(z)"
   ]
  },
  {
   "cell_type": "code",
   "execution_count": 9,
   "metadata": {},
   "outputs": [
    {
     "name": "stdout",
     "output_type": "stream",
     "text": [
      "[[1. 1.]\n",
      " [1. 1.]\n",
      " [1. 1.]\n",
      " [1. 1.]]\n",
      "[[2. 2.]\n",
      " [2. 2.]\n",
      " [2. 2.]\n",
      " [2. 2.]]\n"
     ]
    }
   ],
   "source": [
    "# One can convert a tensor into an NumPy array or vice-versa,\n",
    "# notice that they will share the same underlying memory location\n",
    "y = x.numpy()\n",
    "print(y)\n",
    "x.add_(1)\n",
    "print(y)"
   ]
  },
  {
   "cell_type": "code",
   "execution_count": 10,
   "metadata": {},
   "outputs": [
    {
     "name": "stdout",
     "output_type": "stream",
     "text": [
      "tensor([1., 1., 1., 1., 1.], dtype=torch.float64)\n",
      "tensor([2., 2., 2., 2., 2.], dtype=torch.float64)\n"
     ]
    }
   ],
   "source": [
    "x = np.ones(5)\n",
    "y = torch.from_numpy(x)\n",
    "print(y)\n",
    "np.add(x, 1, out=x)\n",
    "print(y)\n"
   ]
  },
  {
   "cell_type": "code",
   "execution_count": 11,
   "metadata": {},
   "outputs": [
    {
     "name": "stderr",
     "output_type": "stream",
     "text": [
      "/home/xuedong/Programming/Trochilus/anaconda3/lib/python3.6/site-packages/torch/cuda/__init__.py:116: UserWarning: \n",
      "    Found GPU0 Quadro K1100M which is of cuda capability 3.0.\n",
      "    PyTorch no longer supports this GPU because it is too old.\n",
      "    \n",
      "  warnings.warn(old_gpu_warn % (d, name, major, capability[1]))\n"
     ]
    },
    {
     "ename": "RuntimeError",
     "evalue": "cuda runtime error (48) : no kernel image is available for execution on the device at /pytorch/aten/src/THC/generic/THCTensorMath.cu:15",
     "output_type": "error",
     "traceback": [
      "\u001b[0;31m---------------------------------------------------------------------------\u001b[0m",
      "\u001b[0;31mRuntimeError\u001b[0m                              Traceback (most recent call last)",
      "\u001b[0;32m<ipython-input-11-4098b54a0709>\u001b[0m in \u001b[0;36m<module>\u001b[0;34m()\u001b[0m\n\u001b[1;32m      3\u001b[0m \u001b[0;32mif\u001b[0m \u001b[0mtorch\u001b[0m\u001b[0;34m.\u001b[0m\u001b[0mcuda\u001b[0m\u001b[0;34m.\u001b[0m\u001b[0mis_available\u001b[0m\u001b[0;34m(\u001b[0m\u001b[0;34m)\u001b[0m\u001b[0;34m:\u001b[0m\u001b[0;34m\u001b[0m\u001b[0m\n\u001b[1;32m      4\u001b[0m     \u001b[0mdevice\u001b[0m \u001b[0;34m=\u001b[0m \u001b[0mtorch\u001b[0m\u001b[0;34m.\u001b[0m\u001b[0mdevice\u001b[0m\u001b[0;34m(\u001b[0m\u001b[0;34m\"cuda\"\u001b[0m\u001b[0;34m)\u001b[0m\u001b[0;34m\u001b[0m\u001b[0m\n\u001b[0;32m----> 5\u001b[0;31m     \u001b[0my\u001b[0m \u001b[0;34m=\u001b[0m \u001b[0mtorch\u001b[0m\u001b[0;34m.\u001b[0m\u001b[0mones_like\u001b[0m\u001b[0;34m(\u001b[0m\u001b[0mx\u001b[0m\u001b[0;34m,\u001b[0m \u001b[0mdevice\u001b[0m\u001b[0;34m=\u001b[0m\u001b[0mdevice\u001b[0m\u001b[0;34m)\u001b[0m \u001b[0;31m# We can either create directly a tensor on GPU\u001b[0m\u001b[0;34m\u001b[0m\u001b[0m\n\u001b[0m\u001b[1;32m      6\u001b[0m     \u001b[0mx\u001b[0m \u001b[0;34m=\u001b[0m \u001b[0mx\u001b[0m\u001b[0;34m.\u001b[0m\u001b[0mto\u001b[0m\u001b[0;34m(\u001b[0m\u001b[0mdevice\u001b[0m\u001b[0;34m)\u001b[0m \u001b[0;31m# Or, push a CPU tensor \"to\" your GPU device\u001b[0m\u001b[0;34m\u001b[0m\u001b[0m\n\u001b[1;32m      7\u001b[0m     \u001b[0mz\u001b[0m \u001b[0;34m=\u001b[0m \u001b[0mx\u001b[0m \u001b[0;34m+\u001b[0m \u001b[0my\u001b[0m\u001b[0;34m\u001b[0m\u001b[0m\n",
      "\u001b[0;31mRuntimeError\u001b[0m: cuda runtime error (48) : no kernel image is available for execution on the device at /pytorch/aten/src/THC/generic/THCTensorMath.cu:15"
     ]
    }
   ],
   "source": [
    "# Now let's manipulate tensors on GPU\n",
    "x = torch.rand(7, 7)\n",
    "if torch.cuda.is_available():\n",
    "    device = torch.device(\"cuda\")\n",
    "    y = torch.ones_like(x, device=device) # We can either create directly a tensor on GPU\n",
    "    x = x.to(device) # Or, push a CPU tensor \"to\" your GPU device\n",
    "    z = x + y\n",
    "    print(z)\n",
    "    print(z.to(\"cpu\"))\n"
   ]
  },
  {
   "cell_type": "code",
   "execution_count": null,
   "metadata": {},
   "outputs": [],
   "source": []
  }
 ],
 "metadata": {
  "kernelspec": {
   "display_name": "Python 3",
   "language": "python",
   "name": "python3"
  },
  "language_info": {
   "codemirror_mode": {
    "name": "ipython",
    "version": 3
   },
   "file_extension": ".py",
   "mimetype": "text/x-python",
   "name": "python",
   "nbconvert_exporter": "python",
   "pygments_lexer": "ipython3",
   "version": "3.6.4"
  }
 },
 "nbformat": 4,
 "nbformat_minor": 2
}
